{
  "nbformat": 4,
  "nbformat_minor": 0,
  "metadata": {
    "colab": {
      "name": "ДЗ 1 Богуславская (Hillel)",
      "provenance": [],
      "authorship_tag": "ABX9TyMLn+M6jOH2skbEppRQKj8p",
      "include_colab_link": true
    },
    "kernelspec": {
      "name": "python3",
      "display_name": "Python 3"
    },
    "language_info": {
      "name": "python"
    }
  },
  "cells": [
    {
      "cell_type": "markdown",
      "metadata": {
        "id": "view-in-github",
        "colab_type": "text"
      },
      "source": [
        "<a href=\"https://colab.research.google.com/github/bohuslavska/Hillel/blob/main/%D0%94%D0%97_1_%D0%91%D0%BE%D0%B3%D1%83%D1%81%D0%BB%D0%B0%D0%B2%D1%81%D0%BA%D0%B0%D1%8F_(Hillel).ipynb\" target=\"_parent\"><img src=\"https://colab.research.google.com/assets/colab-badge.svg\" alt=\"Open In Colab\"/></a>"
      ]
    },
    {
      "cell_type": "code",
      "execution_count": 29,
      "metadata": {
        "colab": {
          "base_uri": "https://localhost:8080/"
        },
        "id": "ai7oqt3QVjNE",
        "outputId": "b08f075a-7aa2-4962-c961-04c36fe0f49f"
      },
      "outputs": [
        {
          "output_type": "execute_result",
          "data": {
            "text/plain": [
              "[[55, 65, 49, 5], [57, 68, 72, 12], [90, 107, 111, 21]]"
            ]
          },
          "metadata": {},
          "execution_count": 29
        }
      ],
      "source": [
        "#Matrix multiplication without Numpy\n",
        "\n",
        "X = [[1, 7, 3],\n",
        "    [3, 5, 6],\n",
        "    [6, 8, 9]]\n",
        "\n",
        "Y = [[1, 1, 1, 2],\n",
        "    [6, 7, 3, 0],\n",
        "    [4, 5, 9, 1]]\n",
        "\n",
        "def matrix_dot_matrix(X, Y):\n",
        "  if len(X[0]) != len(Y):\n",
        "    print(\"The number of columns in the first matrix doesn't match the number of rows in the second matrix. Multiplication is impossible.\")\n",
        "    return []\n",
        "  else:\n",
        "    output_matrix = []\n",
        "    for i in range(len(X)):\n",
        "     output_matrix.append([0] * len(Y[0]))\n",
        "    for i in range(len(X)):\n",
        "      for j in range(len(Y[0])):\n",
        "       for k in range(len(Y)):\n",
        "         output_matrix[i][j] += X[i][k] * Y[k][j]\n",
        "  return output_matrix\n",
        "\n",
        "matrix_dot_matrix(X, Y)"
      ]
    },
    {
      "cell_type": "code",
      "source": [
        "#Matrix multiplication with NumPy\n",
        "\n",
        "X = [[1, 7, 3],\n",
        "    [3, 5, 6],\n",
        "    [6, 8, 9]]\n",
        "\n",
        "Y = [[1, 1, 1, 2],\n",
        "   [6, 7, 3, 0],\n",
        "   [4, 5, 9, 1]]\n",
        "\n",
        "import numpy as np\n",
        "print(np.dot(X,Y))"
      ],
      "metadata": {
        "id": "C6riQii_V0hL",
        "colab": {
          "base_uri": "https://localhost:8080/"
        },
        "outputId": "a0d24cdf-4613-4dcb-f452-fd4a4479ac6f"
      },
      "execution_count": 30,
      "outputs": [
        {
          "output_type": "stream",
          "name": "stdout",
          "text": [
            "[[ 55  65  49   5]\n",
            " [ 57  68  72  12]\n",
            " [ 90 107 111  21]]\n"
          ]
        }
      ]
    },
    {
      "cell_type": "code",
      "source": [
        "#Speed comparison\n",
        "\n",
        "#Matrix multiplication without Numpy\n",
        "\n",
        "X = []\n",
        "for i in range(200):\n",
        "  X.append([12126273] * 200)\n",
        "\n",
        "Y = []\n",
        "for i in range(200):\n",
        "  Y.append([1212627367] * 100)\n",
        "\n",
        "from datetime import datetime\n",
        "import time\n",
        "start_time_1 = datetime.now()\n",
        "\n",
        "def matrix_dot_matrix(X, Y):\n",
        "  if len(X[0]) != len(Y):\n",
        "    print(\"The number of columns in the first matrix doesn't match the number of rows in the second matrix. Multiplication is impossible.\")\n",
        "    return []\n",
        "  else:\n",
        "    output_matrix = []\n",
        "    for i in range(len(X)):\n",
        "     output_matrix.append([0] * len(Y[0]))\n",
        "    for i in range(len(X)):\n",
        "      for j in range(len(Y[0])):\n",
        "       for k in range(len(Y)):\n",
        "         output_matrix[i][j] += X[i][k] * Y[k][j]\n",
        "  return output_matrix\n",
        "\n",
        "matrix_dot_matrix(X, Y)\n",
        "\n",
        "print(datetime.now() - start_time_1)"
      ],
      "metadata": {
        "colab": {
          "base_uri": "https://localhost:8080/"
        },
        "id": "Ffylq7h1V68S",
        "outputId": "85a867fa-6027-4e4b-b927-2fa471ddebcb"
      },
      "execution_count": 31,
      "outputs": [
        {
          "output_type": "stream",
          "name": "stdout",
          "text": [
            "0:00:01.236100\n"
          ]
        }
      ]
    },
    {
      "cell_type": "code",
      "source": [
        "#Matrix multiplication with NumPy\n",
        "\n",
        "X = []\n",
        "for i in range(200):\n",
        "  X.append([12126273] * 200)\n",
        "\n",
        "Y = []\n",
        "for i in range(200):\n",
        "  Y.append([1212627367] * 100)\n",
        "\n",
        "from datetime import datetime\n",
        "import time\n",
        "start_time_2 = datetime.now()\n",
        "\n",
        "import numpy as np\n",
        "np.dot(X,Y)\n",
        "\n",
        "print(datetime.now() - start_time_2)"
      ],
      "metadata": {
        "colab": {
          "base_uri": "https://localhost:8080/"
        },
        "id": "GRUlYnovWcLW",
        "outputId": "991bb25c-0d28-4497-b029-88a031f8a7dd"
      },
      "execution_count": 32,
      "outputs": [
        {
          "output_type": "stream",
          "name": "stdout",
          "text": [
            "0:00:00.009717\n"
          ]
        }
      ]
    },
    {
      "cell_type": "markdown",
      "source": [
        "Conclusion: **NumPy performs faster.**"
      ],
      "metadata": {
        "id": "bxHJZ2Z1YsYO"
      }
    },
    {
      "cell_type": "markdown",
      "source": [
        ""
      ],
      "metadata": {
        "id": "XdDsIL06Y0wR"
      }
    }
  ]
}